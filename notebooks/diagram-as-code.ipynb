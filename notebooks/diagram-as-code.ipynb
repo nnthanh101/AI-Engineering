{
 "cells": [
  {
   "cell_type": "markdown",
   "id": "d4d39f82-d31e-48ec-a71d-3f7bc46f94c5",
   "metadata": {},
   "source": [
    "# Diagram-as-Code"
   ]
  },
  {
   "cell_type": "code",
   "execution_count": null,
   "id": "7163c48c-c1f2-4643-b499-59560977b79b",
   "metadata": {},
   "outputs": [],
   "source": []
  }
 ],
 "metadata": {
  "kernelspec": {
   "display_name": "Python 3 (ipykernel)",
   "language": "python",
   "name": "python3"
  },
  "language_info": {
   "codemirror_mode": {
    "name": "ipython",
    "version": 3
   },
   "file_extension": ".py",
   "mimetype": "text/x-python",
   "name": "python",
   "nbconvert_exporter": "python",
   "pygments_lexer": "ipython3",
   "version": "3.12.8"
  }
 },
 "nbformat": 4,
 "nbformat_minor": 5
}
